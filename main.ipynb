{
 "cells": [
  {
   "cell_type": "code",
   "execution_count": 1,
   "metadata": {},
   "outputs": [
    {
     "name": "stderr",
     "output_type": "stream",
     "text": [
      "2023-04-12 11:11:13.723018: I tensorflow/core/platform/cpu_feature_guard.cc:182] This TensorFlow binary is optimized to use available CPU instructions in performance-critical operations.\n",
      "To enable the following instructions: AVX2 FMA, in other operations, rebuild TensorFlow with the appropriate compiler flags.\n",
      "2023-04-12 11:11:15.043437: W tensorflow/compiler/tf2tensorrt/utils/py_utils.cc:38] TF-TRT Warning: Could not find TensorRT\n"
     ]
    }
   ],
   "source": [
    "import tensorflow as tf\n",
    "import numpy as np\n",
    "import pathlib"
   ]
  },
  {
   "cell_type": "code",
   "execution_count": 2,
   "metadata": {},
   "outputs": [
    {
     "name": "stdout",
     "output_type": "stream",
     "text": [
      "Found 10028 images\n"
     ]
    }
   ],
   "source": [
    "data_dir = pathlib.Path(\"data\")\n",
    "\n",
    "count = len(list(data_dir.glob(\"*/*.jpg\")))\n",
    "print(f\"Found {count} images\")"
   ]
  },
  {
   "cell_type": "code",
   "execution_count": 16,
   "metadata": {},
   "outputs": [
    {
     "name": "stdout",
     "output_type": "stream",
     "text": [
      "Found 10028 files belonging to 2 classes.\n",
      "Using 8023 files for training.\n",
      "Found 10028 files belonging to 2 classes.\n",
      "Using 2005 files for validation.\n"
     ]
    }
   ],
   "source": [
    "batch_size = 32\n",
    "img_height = 220\n",
    "img_width = 220\n",
    "\n",
    "train_ds = tf.keras.utils.image_dataset_from_directory(\n",
    "    data_dir,\n",
    "    validation_split=0.2,\n",
    "    subset=\"training\",\n",
    "    seed=1,\n",
    "    image_size=(img_height, img_width),\n",
    "    batch_size=batch_size,\n",
    ")\n",
    "\n",
    "val_ds = tf.keras.utils.image_dataset_from_directory(\n",
    "    data_dir,\n",
    "    validation_split=0.2,\n",
    "    subset=\"validation\",\n",
    "    seed=1,\n",
    "    image_size=(img_height, img_width),\n",
    "    batch_size=batch_size,\n",
    ")"
   ]
  },
  {
   "cell_type": "code",
   "execution_count": 8,
   "metadata": {},
   "outputs": [],
   "source": [
    "def build_cnn_model():\n",
    "    return tf.keras.Sequential(\n",
    "        [\n",
    "            tf.keras.layers.Rescaling(1.0 / 255),\n",
    "            tf.keras.layers.Conv2D(32, 3, activation=\"relu\"),\n",
    "            tf.keras.layers.MaxPooling2D(),\n",
    "            tf.keras.layers.Conv2D(32, 3, activation=\"relu\"),\n",
    "            tf.keras.layers.MaxPooling2D(),\n",
    "            tf.keras.layers.Conv2D(32, 3, activation=\"relu\"),\n",
    "            tf.keras.layers.MaxPooling2D(),\n",
    "            tf.keras.layers.Flatten(),\n",
    "            tf.keras.layers.Dense(128, activation=\"relu\"),\n",
    "            tf.keras.layers.Dropout(0.5),\n",
    "            tf.keras.layers.Dense(2, activation=\"softmax\"),\n",
    "        ]\n",
    "    )\n",
    "\n",
    "\n",
    "model = build_cnn_model()"
   ]
  },
  {
   "cell_type": "code",
   "execution_count": 9,
   "metadata": {},
   "outputs": [],
   "source": [
    "model.compile(\n",
    "    optimizer=\"adam\",\n",
    "    loss=tf.keras.losses.SparseCategoricalCrossentropy(),\n",
    "    metrics=[\"accuracy\"],\n",
    ")"
   ]
  },
  {
   "cell_type": "code",
   "execution_count": 10,
   "metadata": {},
   "outputs": [
    {
     "name": "stdout",
     "output_type": "stream",
     "text": [
      "Epoch 1/12\n",
      "251/251 [==============================] - 15s 56ms/step - loss: 0.6623 - accuracy: 0.6141 - val_loss: 0.6096 - val_accuracy: 0.6803\n",
      "Epoch 2/12\n",
      "251/251 [==============================] - 15s 58ms/step - loss: 0.5924 - accuracy: 0.6911 - val_loss: 0.5826 - val_accuracy: 0.7002\n",
      "Epoch 3/12\n",
      "251/251 [==============================] - 15s 61ms/step - loss: 0.5407 - accuracy: 0.7280 - val_loss: 0.5282 - val_accuracy: 0.7357\n",
      "Epoch 4/12\n",
      "251/251 [==============================] - 16s 61ms/step - loss: 0.4676 - accuracy: 0.7771 - val_loss: 0.4965 - val_accuracy: 0.7581\n",
      "Epoch 5/12\n",
      "251/251 [==============================] - 17s 67ms/step - loss: 0.4057 - accuracy: 0.8213 - val_loss: 0.4972 - val_accuracy: 0.7576\n",
      "Epoch 6/12\n",
      "251/251 [==============================] - 16s 65ms/step - loss: 0.3359 - accuracy: 0.8484 - val_loss: 0.5020 - val_accuracy: 0.7686\n",
      "Epoch 7/12\n",
      "251/251 [==============================] - 16s 63ms/step - loss: 0.2541 - accuracy: 0.8922 - val_loss: 0.5560 - val_accuracy: 0.7651\n",
      "Epoch 8/12\n",
      "251/251 [==============================] - 15s 61ms/step - loss: 0.1966 - accuracy: 0.9180 - val_loss: 0.6034 - val_accuracy: 0.7731\n",
      "Epoch 9/12\n",
      "251/251 [==============================] - 16s 64ms/step - loss: 0.1572 - accuracy: 0.9407 - val_loss: 0.6937 - val_accuracy: 0.7741\n",
      "Epoch 10/12\n",
      "251/251 [==============================] - 16s 63ms/step - loss: 0.1277 - accuracy: 0.9485 - val_loss: 0.7130 - val_accuracy: 0.7805\n",
      "Epoch 11/12\n",
      "251/251 [==============================] - 16s 64ms/step - loss: 0.1065 - accuracy: 0.9607 - val_loss: 0.7600 - val_accuracy: 0.7736\n",
      "Epoch 12/12\n",
      "251/251 [==============================] - 16s 64ms/step - loss: 0.1015 - accuracy: 0.9635 - val_loss: 0.8077 - val_accuracy: 0.7721\n"
     ]
    },
    {
     "data": {
      "text/plain": [
       "<keras.callbacks.History at 0x7f66c4158d00>"
      ]
     },
     "execution_count": 10,
     "metadata": {},
     "output_type": "execute_result"
    }
   ],
   "source": [
    "BATCH_SIZE = 12\n",
    "EPOCHS = 12\n",
    "\n",
    "model.fit(train_ds, batch_size=BATCH_SIZE, epochs=EPOCHS, validation_data=val_ds)"
   ]
  },
  {
   "cell_type": "code",
   "execution_count": 7,
   "metadata": {},
   "outputs": [
    {
     "name": "stdout",
     "output_type": "stream",
     "text": [
      "63/63 [==============================] - 2s 26ms/step - loss: 1.4366 - accuracy: 0.7342\n",
      "0.7341645956039429\n"
     ]
    }
   ],
   "source": [
    "_, acc = model.evaluate(val_ds)\n",
    "print(acc)"
   ]
  },
  {
   "cell_type": "code",
   "execution_count": 22,
   "metadata": {},
   "outputs": [
    {
     "name": "stdout",
     "output_type": "stream",
     "text": [
      "Running on local URL:  http://127.0.0.1:7900\n",
      "\n",
      "To create a public link, set `share=True` in `launch()`.\n"
     ]
    },
    {
     "data": {
      "text/html": [
       "<div><iframe src=\"http://127.0.0.1:7900/\" width=\"100%\" height=\"500\" allow=\"autoplay; camera; microphone; clipboard-read; clipboard-write;\" frameborder=\"0\" allowfullscreen></iframe></div>"
      ],
      "text/plain": [
       "<IPython.core.display.HTML object>"
      ]
     },
     "metadata": {},
     "output_type": "display_data"
    },
    {
     "data": {
      "text/plain": []
     },
     "execution_count": 22,
     "metadata": {},
     "output_type": "execute_result"
    },
    {
     "name": "stdout",
     "output_type": "stream",
     "text": [
      "1/1 [==============================] - 0s 449ms/step\n",
      "1/1 [==============================] - 0s 23ms/step\n"
     ]
    }
   ],
   "source": [
    "import gradio as gr\n",
    "\n",
    "\n",
    "def classify(image):\n",
    "    image = image.reshape((-1, 220, 220, 3))\n",
    "    prediction = model.predict(image).flatten()\n",
    "    return {\"Cat\": float(prediction[0]), \"Dog\": float(prediction[1])}\n",
    "\n",
    "\n",
    "gr.Interface(\n",
    "    fn=classify, inputs=gr.Image(shape=(220, 220)), outputs=gr.Label(num_top_classes=2)\n",
    ").launch()"
   ]
  },
  {
   "cell_type": "code",
   "execution_count": null,
   "metadata": {},
   "outputs": [],
   "source": []
  }
 ],
 "metadata": {
  "kernelspec": {
   "display_name": "Python 3 (ipykernel)",
   "language": "python",
   "name": "python3"
  },
  "language_info": {
   "codemirror_mode": {
    "name": "ipython",
    "version": 3
   },
   "file_extension": ".py",
   "mimetype": "text/x-python",
   "name": "python",
   "nbconvert_exporter": "python",
   "pygments_lexer": "ipython3",
   "version": "3.9.16"
  }
 },
 "nbformat": 4,
 "nbformat_minor": 2
}
